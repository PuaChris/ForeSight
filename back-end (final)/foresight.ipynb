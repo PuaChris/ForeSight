{
  "nbformat": 4,
  "nbformat_minor": 0,
  "metadata": {
    "colab": {
      "name": "foresight.ipynb",
      "provenance": [],
      "collapsed_sections": [],
      "toc_visible": true
    },
    "kernelspec": {
      "name": "python3",
      "display_name": "Python 3"
    },
    "accelerator": "GPU",
    "widgets": {
      "application/vnd.jupyter.widget-state+json": {
        "eef543754d004088970f4335cfef63ff": {
          "model_module": "@jupyter-widgets/controls",
          "model_name": "HBoxModel",
          "state": {
            "_view_name": "HBoxView",
            "_dom_classes": [],
            "_model_name": "HBoxModel",
            "_view_module": "@jupyter-widgets/controls",
            "_model_module_version": "1.5.0",
            "_view_count": null,
            "_view_module_version": "1.5.0",
            "box_style": "",
            "layout": "IPY_MODEL_836fca0d306c45e69bd092c60d3577ee",
            "_model_module": "@jupyter-widgets/controls",
            "children": [
              "IPY_MODEL_fe0775b532f6466aaf8c3202568ff8ce",
              "IPY_MODEL_de9a6839642f412999a89e0b52799226"
            ]
          }
        },
        "836fca0d306c45e69bd092c60d3577ee": {
          "model_module": "@jupyter-widgets/base",
          "model_name": "LayoutModel",
          "state": {
            "_view_name": "LayoutView",
            "grid_template_rows": null,
            "right": null,
            "justify_content": null,
            "_view_module": "@jupyter-widgets/base",
            "overflow": null,
            "_model_module_version": "1.2.0",
            "_view_count": null,
            "flex_flow": null,
            "width": null,
            "min_width": null,
            "border": null,
            "align_items": null,
            "bottom": null,
            "_model_module": "@jupyter-widgets/base",
            "top": null,
            "grid_column": null,
            "overflow_y": null,
            "overflow_x": null,
            "grid_auto_flow": null,
            "grid_area": null,
            "grid_template_columns": null,
            "flex": null,
            "_model_name": "LayoutModel",
            "justify_items": null,
            "grid_row": null,
            "max_height": null,
            "align_content": null,
            "visibility": null,
            "align_self": null,
            "height": null,
            "min_height": null,
            "padding": null,
            "grid_auto_rows": null,
            "grid_gap": null,
            "max_width": null,
            "order": null,
            "_view_module_version": "1.2.0",
            "grid_template_areas": null,
            "object_position": null,
            "object_fit": null,
            "grid_auto_columns": null,
            "margin": null,
            "display": null,
            "left": null
          }
        },
        "fe0775b532f6466aaf8c3202568ff8ce": {
          "model_module": "@jupyter-widgets/controls",
          "model_name": "FloatProgressModel",
          "state": {
            "_view_name": "ProgressView",
            "style": "IPY_MODEL_81cc4876cdee45ff88d48af8d25e28d9",
            "_dom_classes": [],
            "description": "100%",
            "_model_name": "FloatProgressModel",
            "bar_style": "success",
            "max": 241530880,
            "_view_module": "@jupyter-widgets/controls",
            "_model_module_version": "1.5.0",
            "value": 241530880,
            "_view_count": null,
            "_view_module_version": "1.5.0",
            "orientation": "horizontal",
            "min": 0,
            "description_tooltip": null,
            "_model_module": "@jupyter-widgets/controls",
            "layout": "IPY_MODEL_48cbd4c4eacb4d31ad54db00480ae49a"
          }
        },
        "de9a6839642f412999a89e0b52799226": {
          "model_module": "@jupyter-widgets/controls",
          "model_name": "HTMLModel",
          "state": {
            "_view_name": "HTMLView",
            "style": "IPY_MODEL_1ea26c5b760e44b5a03efcd8a0e991c7",
            "_dom_classes": [],
            "description": "",
            "_model_name": "HTMLModel",
            "placeholder": "​",
            "_view_module": "@jupyter-widgets/controls",
            "_model_module_version": "1.5.0",
            "value": " 230M/230M [02:33&lt;00:00, 1.57MB/s]",
            "_view_count": null,
            "_view_module_version": "1.5.0",
            "description_tooltip": null,
            "_model_module": "@jupyter-widgets/controls",
            "layout": "IPY_MODEL_c30d00bd96cd4d168e2d1acb6bcdaadc"
          }
        },
        "81cc4876cdee45ff88d48af8d25e28d9": {
          "model_module": "@jupyter-widgets/controls",
          "model_name": "ProgressStyleModel",
          "state": {
            "_view_name": "StyleView",
            "_model_name": "ProgressStyleModel",
            "description_width": "initial",
            "_view_module": "@jupyter-widgets/base",
            "_model_module_version": "1.5.0",
            "_view_count": null,
            "_view_module_version": "1.2.0",
            "bar_color": null,
            "_model_module": "@jupyter-widgets/controls"
          }
        },
        "48cbd4c4eacb4d31ad54db00480ae49a": {
          "model_module": "@jupyter-widgets/base",
          "model_name": "LayoutModel",
          "state": {
            "_view_name": "LayoutView",
            "grid_template_rows": null,
            "right": null,
            "justify_content": null,
            "_view_module": "@jupyter-widgets/base",
            "overflow": null,
            "_model_module_version": "1.2.0",
            "_view_count": null,
            "flex_flow": null,
            "width": null,
            "min_width": null,
            "border": null,
            "align_items": null,
            "bottom": null,
            "_model_module": "@jupyter-widgets/base",
            "top": null,
            "grid_column": null,
            "overflow_y": null,
            "overflow_x": null,
            "grid_auto_flow": null,
            "grid_area": null,
            "grid_template_columns": null,
            "flex": null,
            "_model_name": "LayoutModel",
            "justify_items": null,
            "grid_row": null,
            "max_height": null,
            "align_content": null,
            "visibility": null,
            "align_self": null,
            "height": null,
            "min_height": null,
            "padding": null,
            "grid_auto_rows": null,
            "grid_gap": null,
            "max_width": null,
            "order": null,
            "_view_module_version": "1.2.0",
            "grid_template_areas": null,
            "object_position": null,
            "object_fit": null,
            "grid_auto_columns": null,
            "margin": null,
            "display": null,
            "left": null
          }
        },
        "1ea26c5b760e44b5a03efcd8a0e991c7": {
          "model_module": "@jupyter-widgets/controls",
          "model_name": "DescriptionStyleModel",
          "state": {
            "_view_name": "StyleView",
            "_model_name": "DescriptionStyleModel",
            "description_width": "",
            "_view_module": "@jupyter-widgets/base",
            "_model_module_version": "1.5.0",
            "_view_count": null,
            "_view_module_version": "1.2.0",
            "_model_module": "@jupyter-widgets/controls"
          }
        },
        "c30d00bd96cd4d168e2d1acb6bcdaadc": {
          "model_module": "@jupyter-widgets/base",
          "model_name": "LayoutModel",
          "state": {
            "_view_name": "LayoutView",
            "grid_template_rows": null,
            "right": null,
            "justify_content": null,
            "_view_module": "@jupyter-widgets/base",
            "overflow": null,
            "_model_module_version": "1.2.0",
            "_view_count": null,
            "flex_flow": null,
            "width": null,
            "min_width": null,
            "border": null,
            "align_items": null,
            "bottom": null,
            "_model_module": "@jupyter-widgets/base",
            "top": null,
            "grid_column": null,
            "overflow_y": null,
            "overflow_x": null,
            "grid_auto_flow": null,
            "grid_area": null,
            "grid_template_columns": null,
            "flex": null,
            "_model_name": "LayoutModel",
            "justify_items": null,
            "grid_row": null,
            "max_height": null,
            "align_content": null,
            "visibility": null,
            "align_self": null,
            "height": null,
            "min_height": null,
            "padding": null,
            "grid_auto_rows": null,
            "grid_gap": null,
            "max_width": null,
            "order": null,
            "_view_module_version": "1.2.0",
            "grid_template_areas": null,
            "object_position": null,
            "object_fit": null,
            "grid_auto_columns": null,
            "margin": null,
            "display": null,
            "left": null
          }
        }
      }
    }
  },
  "cells": [
    {
      "cell_type": "code",
      "metadata": {
        "id": "NxYJ3sAIBuwq"
      },
      "source": [
        "'''\n",
        "Model Architecture is as follows:\n",
        "    R-CNN (determines regions of image, ie. images in compilation, nail from background) --> to be implemented in future work\n",
        "    CNN (extract features from image) --> Resnet-152 via TRANSFER LEARNING\n",
        "    MLP (classification) --> 4 output (onychomycosis, not onychomycosis, basal cell carcinoma, not basal cell carcinoma) --> expanded in future work\n",
        "    Current implementation is capable of determining if an image is a nail or skin, and if it is onychomycosis or basal cell carcinoma for the respective body parts\n",
        "'''"
      ],
      "execution_count": null,
      "outputs": []
    },
    {
      "cell_type": "markdown",
      "metadata": {
        "id": "r7v1Rxs8BvOy"
      },
      "source": [
        "# Data Preparation"
      ]
    },
    {
      "cell_type": "code",
      "metadata": {
        "id": "-AiLNoQDBw-o",
        "colab": {
          "base_uri": "https://localhost:8080/"
        },
        "outputId": "ab3ec0db-d609-40d3-af11-397a6d8baa53"
      },
      "source": [
        "# import dependencies, set random seeding\n",
        "import matplotlib.pyplot as plt\n",
        "import numpy as np\n",
        "import os \n",
        "import torch\n",
        "import torch.nn as nn\n",
        "import torch.nn.functional as F\n",
        "import torch.optim as optim\n",
        "\n",
        "from torchvision import datasets, transforms\n",
        "\n",
        "np.random.seed(0)\n",
        "torch.manual_seed(1000)\n",
        "RANDOM_NUM = np.random.randint(1000)\n",
        "print('cell complete')"
      ],
      "execution_count": 1,
      "outputs": [
        {
          "output_type": "stream",
          "text": [
            "cell complete\n"
          ],
          "name": "stdout"
        }
      ]
    },
    {
      "cell_type": "code",
      "metadata": {
        "id": "455KUPMoB1Ms"
      },
      "source": [
        "from google.colab import drive\n",
        "drive.mount('/content/drive')\n",
        "!unzip '/content/drive/MyDrive/dataset_final.zip' -d '/root/dataset'"
      ],
      "execution_count": null,
      "outputs": []
    },
    {
      "cell_type": "code",
      "metadata": {
        "id": "6d0bILXLB4bf",
        "colab": {
          "base_uri": "https://localhost:8080/"
        },
        "outputId": "5db422bb-a029-4135-ded0-422dde3355aa"
      },
      "source": [
        "# define function to determine classes\n",
        "CLASSES = None\n",
        "\n",
        "def print_class_distribution_in_dataset(dataset_labels):\n",
        "    num_classes = [0] * len(CLASSES)\n",
        "    for label in dataset_labels:\n",
        "        num_classes[label] += 1\n",
        "    \n",
        "    for i, num_of_class in enumerate(num_classes):\n",
        "        print(f\"Class: {CLASSES[i]}, Number of images: {num_of_class}\")\n",
        "\n",
        "print('cell complete')"
      ],
      "execution_count": 3,
      "outputs": [
        {
          "output_type": "stream",
          "text": [
            "cell complete\n"
          ],
          "name": "stdout"
        }
      ]
    },
    {
      "cell_type": "code",
      "metadata": {
        "id": "vVbf7HzIC09a",
        "colab": {
          "base_uri": "https://localhost:8080/"
        },
        "outputId": "c9b58910-57be-4ab9-8132-b6cf918deb0a"
      },
      "source": [
        "# load data from dataset, transform, print contents\n",
        "IMG_WIDTH = 224\n",
        "IMG_HEIGHT = 224\n",
        "\n",
        "DATA_PATH = '/root/dataset/dataset_final'\n",
        "\n",
        "TRANSFORM_IMG = transforms.Compose([\n",
        "    transforms.Resize((IMG_HEIGHT, IMG_WIDTH)),\n",
        "    transforms.ToTensor(),\n",
        "    transforms.Normalize(\n",
        "    mean=[0.485, 0.456, 0.406],            \n",
        "    std=[0.229, 0.224, 0.225] \n",
        "    )\n",
        "    ])\n",
        "\n",
        "total_data = datasets.ImageFolder(root=DATA_PATH, transform=TRANSFORM_IMG)\n",
        "total_data_len = len(total_data)\n",
        "CLASSES = total_data.classes\n",
        "NUM_CLASSES = len(total_data.classes)\n",
        "\n",
        "print('Number of Images : ', total_data_len)\n",
        "print('Number of Classes : ', NUM_CLASSES)\n",
        "print_class_distribution_in_dataset(total_data.targets)"
      ],
      "execution_count": 5,
      "outputs": [
        {
          "output_type": "stream",
          "text": [
            "Number of Images :  5207\n",
            "Number of Classes :  4\n",
            "Class: nail_not_onycho, Number of images: 578\n",
            "Class: nail_onycho, Number of images: 780\n",
            "Class: skin_basal_cell_carcinoma, Number of images: 1028\n",
            "Class: skin_not_basal, Number of images: 2821\n"
          ],
          "name": "stdout"
        }
      ]
    },
    {
      "cell_type": "code",
      "metadata": {
        "id": "kxLI-DHxDhd2",
        "colab": {
          "base_uri": "https://localhost:8080/"
        },
        "outputId": "a0336085-4a90-4474-993d-76256cef5c92"
      },
      "source": [
        "# split and display data distribution\n",
        "train_data_len = int(total_data_len * 0.7)\n",
        "val_data_len = int(total_data_len * 0.15)\n",
        "test_data_len = total_data_len - train_data_len - val_data_len\n",
        "\n",
        "train_data, val_data, test_data = torch.utils.data.random_split(\n",
        "    total_data,\n",
        "    (train_data_len, val_data_len, test_data_len)\n",
        ")\n",
        "\n",
        "print(f\"Number of Training Images: {len(train_data)}\")\n",
        "# print_class_distribution_in_dataset([datapoint[1] for datapoint in train_data])\n",
        "\n",
        "print(f\"Number of Validation Images: {len(val_data)}\")\n",
        "# print_class_distribution_in_dataset([datapoint[1] for datapoint in val_data])\n",
        "\n",
        "print(f\"Number of Test Images: {len(test_data)}\")\n",
        "# print_class_distribution_in_dataset([datapoint[1] for datapoint in test_data])"
      ],
      "execution_count": 6,
      "outputs": [
        {
          "output_type": "stream",
          "text": [
            "Number of Training Images: 3644\n",
            "Number of Validation Images: 781\n",
            "Number of Test Images: 782\n"
          ],
          "name": "stdout"
        }
      ]
    },
    {
      "cell_type": "code",
      "metadata": {
        "colab": {
          "base_uri": "https://localhost:8080/"
        },
        "id": "f8CfkiAdTKHW",
        "outputId": "92601bf7-4f26-4ba8-fe5f-53f8339cc9d6"
      },
      "source": [
        "USE_CUDA = torch.cuda.is_available()\n",
        "print(USE_CUDA)"
      ],
      "execution_count": 7,
      "outputs": [
        {
          "output_type": "stream",
          "text": [
            "True\n"
          ],
          "name": "stdout"
        }
      ]
    },
    {
      "cell_type": "markdown",
      "metadata": {
        "id": "Q1OhpEilDpc6"
      },
      "source": [
        "# Model Implementation"
      ]
    },
    {
      "cell_type": "markdown",
      "metadata": {
        "id": "lX0WXEP3DqDr"
      },
      "source": [
        "## Model Functions"
      ]
    },
    {
      "cell_type": "code",
      "metadata": {
        "id": "vbC2sFc7Dr4j",
        "colab": {
          "base_uri": "https://localhost:8080/"
        },
        "outputId": "39589397-e973-468c-d505-6209af48618f"
      },
      "source": [
        "# confusion matrix functions\n",
        "@torch.no_grad()\n",
        "def get_all_preds(model, loader,valid=False):\n",
        "    if valid==True:\n",
        "      model.eval()\n",
        "    all_preds = torch.tensor([])\n",
        "    all_targets = torch.tensor([])\n",
        "    if USE_CUDA:\n",
        "        all_preds = all_preds.cuda()\n",
        "        all_targets = all_targets.cuda()\n",
        "    for batch in loader:\n",
        "        images, labels = batch\n",
        "        if USE_CUDA:\n",
        "            images=images.cuda()\n",
        "            labels=labels.cuda()\n",
        "        preds = model(images)\n",
        "        all_preds = torch.cat(\n",
        "            (all_preds, preds)\n",
        "            ,dim=0\n",
        "        )\n",
        "        all_targets=torch.cat((all_targets,labels),dim=0)\n",
        "    if valid==True:\n",
        "      model.train()\n",
        "    return all_preds,all_targets\n",
        "\n",
        "def plot_confusion_matrix(cm, classes, normalize=False, title='Confusion Matrix', cmap=plt.cm.Blues):\n",
        "    if normalize:\n",
        "        cm = cm.astype('float') / cm.sum(axis=1)[:, np.newaxis]\n",
        "        # print(\"Normalized confusion matrix\")\n",
        "    # else:\n",
        "        # print('Confusion matrix, without normalization')\n",
        "\n",
        "    # print(cm)\n",
        "    plt.imshow(cm, interpolation='nearest', cmap=cmap)\n",
        "    plt.title(title)\n",
        "    plt.colorbar()\n",
        "    tick_marks = np.arange(len(classes))\n",
        "    plt.xticks(tick_marks,[i[:15] for i in classes], rotation=90)\n",
        "    plt.yticks(tick_marks,[i[:15] for i in classes])\n",
        "\n",
        "    fmt = '.2f' if normalize else 'd'\n",
        "    thresh = cm.max() / 2.\n",
        "    for i, j in itertools.product(range(cm.shape[0]), range(cm.shape[1])):\n",
        "        plt.text(j, i, format(cm[i, j], fmt), horizontalalignment=\"center\", color=\"white\" if cm[i, j] > thresh else \"black\")\n",
        "\n",
        "    plt.tight_layout()\n",
        "    plt.ylabel('True label')\n",
        "    plt.xlabel('Predicted label')\n",
        "\n",
        "print('cell complete')"
      ],
      "execution_count": 8,
      "outputs": [
        {
          "output_type": "stream",
          "text": [
            "cell complete\n"
          ],
          "name": "stdout"
        }
      ]
    },
    {
      "cell_type": "code",
      "metadata": {
        "id": "8TmuJvizDtZ8",
        "colab": {
          "base_uri": "https://localhost:8080/"
        },
        "outputId": "0b5dd3ba-b32d-453e-ee0a-d25b01cb36c9"
      },
      "source": [
        "import itertools\n",
        "import os \n",
        "from torch.optim import lr_scheduler\n",
        "from datetime import datetime\n",
        "from sklearn.metrics import confusion_matrix\n",
        "\n",
        "USE_CUDA = torch.cuda.is_available()\n",
        "\n",
        "# get model name for checkpointing\n",
        "def get_model_name(name, batch_size, learning_rate, iteration):\n",
        "    \"\"\" Generate a name for the model consisting of all the hyperparameter values\n",
        "\n",
        "    Args:\n",
        "        config: Configuration object containing the hyperparameters\n",
        "    Returns:\n",
        "        path: A string with the hyperparameter name and value concatenated\n",
        "    \"\"\"\n",
        "    path = \"model_{0}_iter{1}_date{2}\".format(\n",
        "      name,\n",
        "      iteration,\n",
        "      datetime.now().strftime(\"%d_%m_%Y-%H_%M\")\n",
        "    )\n",
        "    return path\n",
        "\n",
        "# get accuracy of model against labels\n",
        "def get_accuracy(model, data_loader, dropout=False):\n",
        "    if(dropout):\n",
        "        model.eval()\n",
        "    correct, total = 0, 0\n",
        "\n",
        "    for imgs, labels in data_loader:\n",
        "      if USE_CUDA:\n",
        "          imgs = imgs.cuda()\n",
        "          labels = labels.cuda()\n",
        "\n",
        "      out = model(imgs)\n",
        "      pred = out.max(1, keepdim=True)[1]\n",
        "      correct += pred.eq(labels.view_as(pred)).sum().item()\n",
        "      total += imgs.shape[0]\n",
        "\n",
        "    if(dropout):\n",
        "        model.train()\n",
        "    return correct / total\n",
        "\n",
        "# train model using specified hyperparameters, CE loss, Adam optimizer\n",
        "def train(\n",
        "    model,\n",
        "    train_data,\n",
        "    val_data,\n",
        "    batch_size=64,\n",
        "    learning_rate=0.001,\n",
        "    iterations=10,\n",
        "    momentum=0.9,\n",
        "    dropout=False,\n",
        "    save=True\n",
        "):\n",
        "\n",
        "    criterion = nn.CrossEntropyLoss()\n",
        "    # optimizer = optim.SGD(model.parameters(), lr=learning_rate, momentum=momentum)\n",
        "    optimizer = optim.Adam(model.parameters(), lr=learning_rate)\n",
        "    # Decay LR by a factor of 0.1 every 7 iterations\n",
        "    exp_lr_scheduler = lr_scheduler.StepLR(optimizer, step_size=7, gamma=0.1)\n",
        "\n",
        "    train_loss, train_acc, val_acc = [], [], []\n",
        "    train_loader = torch.utils.data.DataLoader(\n",
        "        train_data,\n",
        "        batch_size=batch_size,\n",
        "        shuffle=False,\n",
        "        num_workers=0\n",
        "    )\n",
        "    val_loader = torch.utils.data.DataLoader(\n",
        "        val_data,\n",
        "        batch_size=batch_size,\n",
        "        shuffle=False,\n",
        "        num_workers=0\n",
        "    )\n",
        "\n",
        "    for iteration in range(iterations):\n",
        "        model.train()\n",
        "        print((\"Iteration {}\").format(iteration + 1))\n",
        "        iter_loss = float(0)\n",
        "        batch_num = 0\n",
        "        for imgs, labels in train_loader:\n",
        "            batch_num += 1\n",
        "            if USE_CUDA:\n",
        "                imgs = imgs.cuda()\n",
        "                labels = labels.cuda()\n",
        "\n",
        "            out = model(imgs)\n",
        "            loss = criterion(out, labels)\n",
        "            loss.backward()\n",
        "            optimizer.step()\n",
        "            optimizer.zero_grad()\n",
        "            iter_loss += float(loss.item())\n",
        "\n",
        "        # Compute training/validation accuracy/loss\n",
        "        train_loss.append(iter_loss / len(train_loader))\n",
        "        train_acc.append(get_accuracy(model, train_loader, dropout=dropout))\n",
        "        val_acc.append(get_accuracy(model, val_loader, dropout=dropout))\n",
        "\n",
        "        # Save model progress\n",
        "        if save:\n",
        "            model_path = get_model_name(\"ForeSight\", batch_size, learning_rate, iteration+1)\n",
        "            torch.save(model.eval().state_dict(), model_path)\n",
        "\n",
        "        print((\"Iteration {}: Train loss: {}, Train accuracy: {}\"\n",
        "              \" | Validation accuracy: {}\").format(\n",
        "                iteration + 1,\n",
        "                train_loss[-1],\n",
        "                train_acc[-1],\n",
        "                val_acc[-1]\n",
        "        ))\n",
        "\n",
        "    # Plot model training information\n",
        "    plt.title(\"Loss Curves\")\n",
        "    plt.plot(range(1, iterations+1), train_loss, label=\"Train\")\n",
        "    plt.xlabel(\"Iterations\")\n",
        "    plt.ylabel(\"Loss\")\n",
        "    plt.legend(loc='best')\n",
        "    plt.show()\n",
        "\n",
        "    plt.title(\"Accuracy Curves\")\n",
        "    plt.plot(range(1, iterations+1), train_acc, label=\"Train\")\n",
        "    plt.plot(range(1, iterations+1), val_acc, label=\"Validation\")\n",
        "    plt.xlabel(\"Iterations\")\n",
        "    plt.ylabel(\"Accuracy\")\n",
        "    plt.legend(loc='best')\n",
        "    plt.show()\n",
        "\n",
        "    print(\"Final Training Accuracy: {}\".format(train_acc[-1]))\n",
        "    print(\"Final Validation Accuracy: {}\".format(val_acc[-1]))\n",
        "\n",
        "    # confusion matrix\n",
        "    preds,targets=get_all_preds(model,val_loader,valid=True)\n",
        "    cm=confusion_matrix(targets.cpu(),preds.argmax(1).cpu())\n",
        "    plt.figure(figsize=(7,7))\n",
        "    plot_confusion_matrix(cm, CLASSES, title=\"Model Confusion Matrix (Validation)\", normalize=True)\n",
        "\n",
        "print('cell complete')"
      ],
      "execution_count": 9,
      "outputs": [
        {
          "output_type": "stream",
          "text": [
            "cell complete\n"
          ],
          "name": "stdout"
        }
      ]
    },
    {
      "cell_type": "markdown",
      "metadata": {
        "id": "VNzKGeiaDwV_"
      },
      "source": [
        "## Model Architecture and Training\n",
        "<b>NOTE</b>: Many other models with many hyperparameter combinations were created throughout the project, but for the sake of brevity in this file, the team will only present the best performing model, as can be found below."
      ]
    },
    {
      "cell_type": "code",
      "metadata": {
        "id": "hRB_4lV4Dua1",
        "colab": {
          "base_uri": "https://localhost:8080/",
          "height": 104,
          "referenced_widgets": [
            "eef543754d004088970f4335cfef63ff",
            "836fca0d306c45e69bd092c60d3577ee",
            "fe0775b532f6466aaf8c3202568ff8ce",
            "de9a6839642f412999a89e0b52799226",
            "81cc4876cdee45ff88d48af8d25e28d9",
            "48cbd4c4eacb4d31ad54db00480ae49a",
            "1ea26c5b760e44b5a03efcd8a0e991c7",
            "c30d00bd96cd4d168e2d1acb6bcdaadc"
          ]
        },
        "outputId": "99cec1a5-1672-4a1a-fe24-e35d8982abd6"
      },
      "source": [
        "# import pretrained models\n",
        "import torchvision.models as models\n",
        "resnet152 = models.resnet152(pretrained=True)\n",
        "print('cell complete')"
      ],
      "execution_count": 10,
      "outputs": [
        {
          "output_type": "stream",
          "text": [
            "Downloading: \"https://download.pytorch.org/models/resnet152-b121ed2d.pth\" to /root/.cache/torch/hub/checkpoints/resnet152-b121ed2d.pth\n"
          ],
          "name": "stderr"
        },
        {
          "output_type": "display_data",
          "data": {
            "application/vnd.jupyter.widget-view+json": {
              "model_id": "eef543754d004088970f4335cfef63ff",
              "version_minor": 0,
              "version_major": 2
            },
            "text/plain": [
              "HBox(children=(FloatProgress(value=0.0, max=241530880.0), HTML(value='')))"
            ]
          },
          "metadata": {
            "tags": []
          }
        },
        {
          "output_type": "stream",
          "text": [
            "\n",
            "cell complete\n"
          ],
          "name": "stdout"
        }
      ]
    },
    {
      "cell_type": "code",
      "metadata": {
        "id": "-f7SK-QuDyku",
        "colab": {
          "base_uri": "https://localhost:8080/",
          "height": 1000
        },
        "outputId": "86742563-4ff9-4794-cfd3-127917f78393"
      },
      "source": [
        "# Train RESNET 152 with custom FC layers\n",
        "# Parameters of newly constructed modules have requires_grad=True by default\n",
        "for param in resnet152.parameters():\n",
        "    param.requires_grad = False\n",
        "\n",
        "num_features = 2048\n",
        "resnet152.fc = nn.Sequential(\n",
        "    nn.Dropout(),\n",
        "    nn.Linear(num_features, 128),\n",
        "    nn.ReLU(),\n",
        "    nn.Linear(128, 64),\n",
        "    nn.ReLU(),\n",
        "    nn.Linear(64, NUM_CLASSES) # num classes ***\n",
        ")\n",
        "\n",
        "if USE_CUDA:\n",
        "  resnet152.cuda()\n",
        "\n",
        "train(resnet152, train_data, val_data, learning_rate=0.002, batch_size=128, iterations=8, dropout=True)"
      ],
      "execution_count": 11,
      "outputs": [
        {
          "output_type": "stream",
          "text": [
            "Iteration 1\n",
            "Iteration 1: Train loss: 0.7298547132261868, Train accuracy: 0.7848518111964874 | Validation accuracy: 0.8053777208706786\n",
            "Iteration 2\n",
            "Iteration 2: Train loss: 0.40563275176903296, Train accuracy: 0.807628979143798 | Validation accuracy: 0.8386683738796414\n",
            "Iteration 3\n",
            "Iteration 3: Train loss: 0.39575088178289347, Train accuracy: 0.8463227222832053 | Validation accuracy: 0.8617157490396927\n",
            "Iteration 4\n",
            "Iteration 4: Train loss: 0.358608475533025, Train accuracy: 0.8622392974753018 | Validation accuracy: 0.8745198463508322\n",
            "Iteration 5\n",
            "Iteration 5: Train loss: 0.3545993587066387, Train accuracy: 0.8625137211855104 | Validation accuracy: 0.8847631241997439\n",
            "Iteration 6\n",
            "Iteration 6: Train loss: 0.34522126358130883, Train accuracy: 0.8688254665203073 | Validation accuracy: 0.882202304737516\n",
            "Iteration 7\n",
            "Iteration 7: Train loss: 0.3481238093869439, Train accuracy: 0.8743139407244785 | Validation accuracy: 0.8706786171574904\n",
            "Iteration 8\n",
            "Iteration 8: Train loss: 0.33250396210571814, Train accuracy: 0.8685510428100988 | Validation accuracy: 0.8617157490396927\n"
          ],
          "name": "stdout"
        },
        {
          "output_type": "display_data",
          "data": {
            "image/png": "[encoded data removed]",
            "text/plain": [
              "<Figure size 432x288 with 1 Axes>"
            ]
          },
          "metadata": {
            "tags": [],
            "needs_background": "light"
          }
        },
        {
          "output_type": "display_data",
          "data": {
            "image/png": "[encoded data removed]",
            "text/plain": [
              "<Figure size 432x288 with 1 Axes>"
            ]
          },
          "metadata": {
            "tags": [],
            "needs_background": "light"
          }
        },
        {
          "output_type": "stream",
          "text": [
            "Final Training Accuracy: 0.8685510428100988\n",
            "Final Validation Accuracy: 0.8617157490396927\n"
          ],
          "name": "stdout"
        },
        {
          "output_type": "display_data",
          "data": {
            "image/png": "[encoded data removed]",
            "text/plain": [
              "<Figure size 504x504 with 2 Axes>"
            ]
          },
          "metadata": {
            "tags": [],
            "needs_background": "light"
          }
        }
      ]
    },
    {
      "cell_type": "markdown",
      "metadata": {
        "id": "EYpeOOf7D_nf"
      },
      "source": [
        "## Test and Save Model"
      ]
    },
    {
      "cell_type": "code",
      "metadata": {
        "id": "yl4ULGKMPj6b",
        "colab": {
          "base_uri": "https://localhost:8080/"
        },
        "outputId": "39e8bb6e-111d-4602-db48-9c320cc7e8e7"
      },
      "source": [
        "train_loader = torch.utils.data.DataLoader(\n",
        "    train_data,\n",
        "    batch_size=128,\n",
        "    shuffle=False,\n",
        "    num_workers=0\n",
        ")\n",
        "val_loader = torch.utils.data.DataLoader(\n",
        "    val_data,\n",
        "    batch_size=128,\n",
        "    shuffle=False,\n",
        "    num_workers=0\n",
        ")\n",
        "test_loader = torch.utils.data.DataLoader(\n",
        "    test_data,\n",
        "    batch_size=128,\n",
        "    shuffle=False,\n",
        "    num_workers=0\n",
        ")\n",
        "print('cell complete')"
      ],
      "execution_count": 12,
      "outputs": [
        {
          "output_type": "stream",
          "text": [
            "cell complete\n"
          ],
          "name": "stdout"
        }
      ]
    },
    {
      "cell_type": "code",
      "metadata": {
        "id": "uRdzlqiAYeZs",
        "colab": {
          "base_uri": "https://localhost:8080/"
        },
        "outputId": "2df8eca1-8771-433f-f3e0-06a1c1ddc476"
      },
      "source": [
        "# code to [load, test, save] best model checkpoint\n",
        "model_final = models.resnet152(pretrained=True)\n",
        "for param in model_final.parameters():\n",
        "    param.requires_grad = False\n",
        "num_features = 2048\n",
        "# MAKE SURE MODEL IS SAME AS ONE USED FOR TRAINING\n",
        "model_final.fc = nn.Sequential(\n",
        "    nn.Dropout(),\n",
        "    nn.Linear(num_features, 128),\n",
        "    nn.ReLU(),\n",
        "    nn.Linear(128, 64),\n",
        "    nn.ReLU(),\n",
        "    nn.Linear(64, NUM_CLASSES) # num classes ***\n",
        ")\n",
        "print('cell complete')"
      ],
      "execution_count": 14,
      "outputs": [
        {
          "output_type": "stream",
          "text": [
            "cell complete\n"
          ],
          "name": "stdout"
        }
      ]
    },
    {
      "cell_type": "code",
      "metadata": {
        "id": "49s1obtxfmDE",
        "colab": {
          "base_uri": "https://localhost:8080/",
          "height": 1000
        },
        "outputId": "5d213923-ff1f-4def-8663-1b1f7c43ffcd"
      },
      "source": [
        "# INSERT FILENAME\n",
        "model_final.load_state_dict(torch.load(\"model_ForeSight_iter5_date19_03_2021-23_12\"))\n",
        "if USE_CUDA:\n",
        "    model_final = model_final.cuda()\n",
        "model_final.eval()\n",
        "\n",
        "print(\"Final Model Train Accuracy:\", get_accuracy(model_final, torch.utils.data.DataLoader(train_data, batch_size=128)))\n",
        "print(\"Final Model Validation Accuracy:\", get_accuracy(model_final, torch.utils.data.DataLoader(val_data, batch_size=128)))\n",
        "print(\"Final Model Test Accuracy:\", get_accuracy(model_final, torch.utils.data.DataLoader(test_data, batch_size=128)))\n",
        "\n",
        "# model_final.eval()\n",
        "# Train confusion matrix\n",
        "preds,targets=get_all_preds(model_final,train_loader,valid=True)\n",
        "cm=confusion_matrix(targets.cpu(),preds.argmax(1).cpu())\n",
        "plt.figure(figsize=(7,7))\n",
        "plot_confusion_matrix(cm, CLASSES, title=\"Model Confusion Matrix (Train)\", normalize=True)\n",
        "# Validation confusion matrix\n",
        "preds,targets=get_all_preds(model_final,val_loader,valid=True)\n",
        "cm=confusion_matrix(targets.cpu(),preds.argmax(1).cpu())\n",
        "plt.figure(figsize=(7,7))\n",
        "plot_confusion_matrix(cm, CLASSES, title=\"Model Confusion Matrix (Validation)\", normalize=True)\n",
        "# Test confusion matrix\n",
        "preds,targets=get_all_preds(model_final,test_loader,valid=True)\n",
        "cm=confusion_matrix(targets.cpu(),preds.argmax(1).cpu())\n",
        "plt.figure(figsize=(7,7))\n",
        "plot_confusion_matrix(cm, CLASSES, title=\"Model Confusion Matrix (Test)\", normalize=True)"
      ],
      "execution_count": 19,
      "outputs": [
        {
          "output_type": "stream",
          "text": [
            "Final Model Train Accuracy: 0.8625137211855104\n",
            "Final Model Validation Accuracy: 0.8847631241997439\n",
            "Final Model Test Accuracy: 0.8567774936061381\n"
          ],
          "name": "stdout"
        },
        {
          "output_type": "display_data",
          "data": {
            "image/png": "[encoded data removed]",
            "text/plain": [
              "<Figure size 504x504 with 2 Axes>"
            ]
          },
          "metadata": {
            "tags": [],
            "needs_background": "light"
          }
        },
        {
          "output_type": "display_data",
          "data": {
            "image/png": "[encoded data removed]",
            "text/plain": [
              "<Figure size 504x504 with 2 Axes>"
            ]
          },
          "metadata": {
            "tags": [],
            "needs_background": "light"
          }
        },
        {
          "output_type": "display_data",
          "data": {
            "image/png": "[encoded data removed]",
            "text/plain": [
              "<Figure size 504x504 with 2 Axes>"
            ]
          },
          "metadata": {
            "tags": [],
            "needs_background": "light"
          }
        }
      ]
    },
    {
      "cell_type": "code",
      "metadata": {
        "id": "C0qTe7UfY89G"
      },
      "source": [
        "torch.save(model_final.eval().state_dict(), \"foresight_final\")"
      ],
      "execution_count": 21,
      "outputs": []
    }
  ]
}